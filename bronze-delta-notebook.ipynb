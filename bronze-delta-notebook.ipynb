{
 "cells": [
  {
   "cell_type": "code",
   "execution_count": null,
   "id": "b8de3fdd-298b-442d-b922-2b517ec9a966",
   "metadata": {},
   "outputs": [],
   "source": [
    "%pip install pyspark\n",
    "%pip install delta-spark"
   ]
  },
  {
   "cell_type": "code",
   "execution_count": null,
   "id": "cb7d415a-27cb-4706-807e-2b8c98a9de0b",
   "metadata": {},
   "outputs": [],
   "source": [
    "from spark_session import get_spark_session\n",
    "\n",
    "spark = get_spark_session(\"BronzeDeltaNotebook\")"
   ]
  },
  {
   "cell_type": "code",
   "execution_count": null,
   "id": "aa8d2334",
   "metadata": {},
   "outputs": [],
   "source": [
    "spark.sql(\"SHOW TABLES\").show()"
   ]
  },
  {
   "cell_type": "code",
   "execution_count": null,
   "id": "784c7a9f",
   "metadata": {},
   "outputs": [],
   "source": [
    "import os\n",
    "# Search for data in current working directory, as spark searches for data in spark_warehouse as it's enabled in spark config\n",
    "spark.sql(f\"CREATE TABLE IF NOT EXISTS bronze_nyc_trips USING DELTA LOCATION '{os.path.join(os.getcwd() ,'data_lake/bronze/nyc_trips')}'\")"
   ]
  },
  {
   "cell_type": "code",
   "execution_count": null,
   "id": "2dad5339",
   "metadata": {},
   "outputs": [],
   "source": [
    "spark.sql(\"SELECT * FROM default.bronze_nyc_trips LIMIT 20\").show()"
   ]
  }
 ],
 "metadata": {
  "kernelspec": {
   "display_name": ".venv",
   "language": "python",
   "name": "python3"
  },
  "language_info": {
   "codemirror_mode": {
    "name": "ipython",
    "version": 3
   },
   "file_extension": ".py",
   "mimetype": "text/x-python",
   "name": "python",
   "nbconvert_exporter": "python",
   "pygments_lexer": "ipython3",
   "version": "3.13.5"
  }
 },
 "nbformat": 4,
 "nbformat_minor": 5
}
