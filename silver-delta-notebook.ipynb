{
 "cells": [
  {
   "cell_type": "code",
   "execution_count": 81,
   "id": "4fc162d0",
   "metadata": {},
   "outputs": [
    {
     "name": "stdout",
     "output_type": "stream",
     "text": [
      "Requirement already satisfied: pyspark in c:\\users\\mokas\\documents\\nyc-taxi-streaming\\.venv\\lib\\site-packages (4.0.0)\n",
      "Requirement already satisfied: py4j==0.10.9.9 in c:\\users\\mokas\\documents\\nyc-taxi-streaming\\.venv\\lib\\site-packages (from pyspark) (0.10.9.9)\n",
      "Note: you may need to restart the kernel to use updated packages.\n",
      "Requirement already satisfied: delta-spark in c:\\users\\mokas\\documents\\nyc-taxi-streaming\\.venv\\lib\\site-packages (4.0.0)\n",
      "Requirement already satisfied: pyspark>=4.0.0 in c:\\users\\mokas\\documents\\nyc-taxi-streaming\\.venv\\lib\\site-packages (from delta-spark) (4.0.0)\n",
      "Requirement already satisfied: importlib-metadata>=1.0.0 in c:\\users\\mokas\\documents\\nyc-taxi-streaming\\.venv\\lib\\site-packages (from delta-spark) (8.7.0)\n",
      "Requirement already satisfied: zipp>=3.20 in c:\\users\\mokas\\documents\\nyc-taxi-streaming\\.venv\\lib\\site-packages (from importlib-metadata>=1.0.0->delta-spark) (3.23.0)\n",
      "Requirement already satisfied: py4j==0.10.9.9 in c:\\users\\mokas\\documents\\nyc-taxi-streaming\\.venv\\lib\\site-packages (from pyspark>=4.0.0->delta-spark) (0.10.9.9)\n",
      "Note: you may need to restart the kernel to use updated packages.\n"
     ]
    }
   ],
   "source": [
    "%pip install pyspark\n",
    "%pip install delta-spark"
   ]
  },
  {
   "cell_type": "code",
   "execution_count": 82,
   "id": "d97017f4",
   "metadata": {},
   "outputs": [],
   "source": [
    "from spark_session import get_spark_session\n",
    "\n",
    "spark = get_spark_session(\"SilverDeltaNotebook\")"
   ]
  },
  {
   "cell_type": "markdown",
   "id": "7bf8dc28",
   "metadata": {},
   "source": [
    "### Data Analysis for Silver Table"
   ]
  },
  {
   "cell_type": "code",
   "execution_count": 83,
   "id": "d1d1fc95",
   "metadata": {},
   "outputs": [],
   "source": [
    "from pyspark.sql.functions import when, count, avg, round, col, isnan, date_format"
   ]
  },
  {
   "cell_type": "code",
   "execution_count": 84,
   "id": "fb50bce2",
   "metadata": {},
   "outputs": [
    {
     "name": "stdout",
     "output_type": "stream",
     "text": [
      "+--------+--------------------+---------------------+---------------+-------------+----------+------------------+------------+------------+------------+-----------+-----+-------+----------+------------+---------------------+------------+--------------------+-----------+------------------+-----------+\n",
      "|VendorID|tpep_pickup_datetime|tpep_dropoff_datetime|passenger_count|trip_distance|RatecodeID|store_and_fwd_flag|PULocationID|DOLocationID|payment_type|fare_amount|extra|mta_tax|tip_amount|tolls_amount|improvement_surcharge|total_amount|congestion_surcharge|Airport_fee|cbd_congestion_fee|pickup_date|\n",
      "+--------+--------------------+---------------------+---------------+-------------+----------+------------------+------------+------------+------------+-----------+-----+-------+----------+------------+---------------------+------------+--------------------+-----------+------------------+-----------+\n",
      "|       2| 2025-01-01 21:21:42|  2025-01-01 21:34:28|            1.0|         2.31|       1.0|                 N|          79|         233|           1|       14.2|  1.0|    0.5|       1.5|         0.0|                  1.0|        20.7|                 2.5|        0.0|               0.0| 2025-01-01|\n",
      "|       2| 2025-01-01 21:37:26|  2025-01-01 21:49:10|            2.0|         2.89|       1.0|                 N|         132|          10|           2|      -15.6| -1.0|   -0.5|       0.0|         0.0|                 -1.0|       -18.1|                 0.0|        0.0|               0.0| 2025-01-01|\n",
      "|       2| 2025-01-01 21:37:26|  2025-01-01 21:49:10|            2.0|         2.89|       1.0|                 N|         132|          10|           2|       15.6|  1.0|    0.5|       0.0|         0.0|                  1.0|        18.1|                 0.0|        0.0|               0.0| 2025-01-01|\n",
      "|       2| 2025-01-01 21:10:45|  2025-01-01 21:29:52|            1.0|         3.95|       1.0|                 N|         146|         164|           2|       21.2|  1.0|    0.5|       0.0|         0.0|                  1.0|        26.2|                 2.5|        0.0|               0.0| 2025-01-01|\n",
      "|       2| 2025-01-01 21:35:03|  2025-01-01 21:53:37|            3.0|        11.88|       1.0|                 N|         132|           7|           1|       45.0|  1.0|    0.5|      15.0|         0.0|                  1.0|        65.0|                 2.5|        0.0|               0.0| 2025-01-01|\n",
      "|       1| 2025-01-01 21:01:13|  2025-01-01 21:21:15|            1.0|         11.6|       1.0|                 N|          70|         231|           1|       45.0|10.25|    0.5|     11.35|         0.0|                  1.0|        68.1|                 2.5|       1.75|               0.0| 2025-01-01|\n",
      "|       2| 2025-01-01 21:57:24|  2025-01-01 22:07:55|            2.0|         3.14|       1.0|                 N|         138|          82|           4|      -16.3| -6.0|   -0.5|       0.0|         0.0|                 -1.0|      -25.55|                 0.0|      -1.75|               0.0| 2025-01-01|\n",
      "|       2| 2025-01-01 21:57:24|  2025-01-01 22:07:55|            2.0|         3.14|       1.0|                 N|         138|          82|           4|       16.3|  6.0|    0.5|       0.0|         0.0|                  1.0|       25.55|                 0.0|       1.75|               0.0| 2025-01-01|\n",
      "|       1| 2025-01-01 21:14:40|  2025-01-01 21:25:25|            1.0|          1.4|       1.0|                 N|         161|         170|           1|       11.4|  3.5|    0.5|      3.25|         0.0|                  1.0|       19.65|                 2.5|        0.0|               0.0| 2025-01-01|\n",
      "|       1| 2025-01-01 21:46:19|  2025-01-01 21:54:15|            2.0|          1.5|       1.0|                 N|         186|         107|           1|       10.0|  3.5|    0.5|       3.0|         0.0|                  1.0|        18.0|                 2.5|        0.0|               0.0| 2025-01-01|\n",
      "|       2| 2025-01-01 21:12:16|  2025-01-01 21:40:11|            1.0|         8.41|       1.0|                 N|         186|         195|           1|       36.6|  1.0|    0.5|      8.32|         0.0|                  1.0|       49.92|                 2.5|        0.0|               0.0| 2025-01-01|\n",
      "|       2| 2025-01-01 21:45:45|  2025-01-01 21:55:13|            1.0|          2.4|       1.0|                 N|         238|          48|           1|       12.8|  1.0|    0.5|      3.56|         0.0|                  1.0|       21.36|                 2.5|        0.0|               0.0| 2025-01-01|\n",
      "|       2| 2025-01-01 21:36:34|  2025-01-01 21:49:09|            1.0|         0.95|       1.0|                 N|         161|         162|           2|       12.1|  1.0|    0.5|       0.0|         0.0|                  1.0|        17.1|                 2.5|        0.0|               0.0| 2025-01-01|\n",
      "|       2| 2025-01-01 21:34:47|  2025-01-01 21:51:30|            2.0|         1.34|       1.0|                 N|         230|         164|           2|       14.9|  1.0|    0.5|       0.0|         0.0|                  1.0|        19.9|                 2.5|        0.0|               0.0| 2025-01-01|\n",
      "|       2| 2025-01-01 21:58:24|  2025-01-01 22:18:28|            3.0|         3.41|       1.0|                 N|         161|         145|           1|       21.2|  1.0|    0.5|       4.0|         0.0|                  1.0|        30.2|                 2.5|        0.0|               0.0| 2025-01-01|\n",
      "|       2| 2025-01-01 21:44:31|  2025-01-01 21:55:34|            1.0|          1.2|       1.0|                 N|         113|           4|           1|       11.4|  1.0|    0.5|      4.92|         0.0|                  1.0|       21.32|                 2.5|        0.0|               0.0| 2025-01-01|\n",
      "|       2| 2025-01-01 21:46:14|  2025-01-01 22:10:08|            1.0|         3.15|       1.0|                 N|         186|         236|           1|       23.3|  1.0|    0.5|      5.66|         0.0|                  1.0|       33.96|                 2.5|        0.0|               0.0| 2025-01-01|\n",
      "|       2| 2025-01-01 21:28:34|  2025-01-01 21:57:12|            3.0|         14.6|       1.0|                 N|         138|         181|           1|       56.2|  6.0|    0.5|     12.74|         0.0|                  1.0|       78.19|                 0.0|       1.75|               0.0| 2025-01-01|\n",
      "|       2| 2025-01-01 21:05:05|  2025-01-01 21:18:39|            4.0|         2.15|       1.0|                 N|          48|         163|           2|       14.2|  1.0|    0.5|       0.0|         0.0|                  1.0|        19.2|                 2.5|        0.0|               0.0| 2025-01-01|\n",
      "|       2| 2025-01-01 21:38:58|  2025-01-01 21:51:24|            4.0|         1.94|       1.0|                 N|         186|         107|           2|       13.5|  1.0|    0.5|       0.0|         0.0|                  1.0|        18.5|                 2.5|        0.0|               0.0| 2025-01-01|\n",
      "+--------+--------------------+---------------------+---------------+-------------+----------+------------------+------------+------------+------------+-----------+-----+-------+----------+------------+---------------------+------------+--------------------+-----------+------------------+-----------+\n",
      "only showing top 20 rows\n"
     ]
    }
   ],
   "source": [
    "silver_df = spark.read.table(\"bronze_nyc_trips\")\n",
    "silver_df.show()"
   ]
  },
  {
   "cell_type": "code",
   "execution_count": 85,
   "id": "3f262678",
   "metadata": {},
   "outputs": [
    {
     "data": {
      "text/plain": [
       "38975"
      ]
     },
     "execution_count": 85,
     "metadata": {},
     "output_type": "execute_result"
    }
   ],
   "source": [
    "# Fare amount should not be negative it could be data entry error or discount since we cannot prove either we filter rows where total_amount is less than 0\n",
    "\n",
    "silver_df.filter(silver_df['total_amount'] < 0).count()"
   ]
  },
  {
   "cell_type": "code",
   "execution_count": 86,
   "id": "6bd00b5b",
   "metadata": {},
   "outputs": [
    {
     "name": "stdout",
     "output_type": "stream",
     "text": [
      "+--------+--------------------+---------------------+---------------+-------------+----------+------------------+------------+------------+------------+-----------+-----+-------+----------+------------+---------------------+------------+--------------------+-----------+------------------+-----------+\n",
      "|VendorID|tpep_pickup_datetime|tpep_dropoff_datetime|passenger_count|trip_distance|RatecodeID|store_and_fwd_flag|PULocationID|DOLocationID|payment_type|fare_amount|extra|mta_tax|tip_amount|tolls_amount|improvement_surcharge|total_amount|congestion_surcharge|Airport_fee|cbd_congestion_fee|pickup_date|\n",
      "+--------+--------------------+---------------------+---------------+-------------+----------+------------------+------------+------------+------------+-----------+-----+-------+----------+------------+---------------------+------------+--------------------+-----------+------------------+-----------+\n",
      "|       2| 2025-01-24 08:33:00|  2025-01-24 08:44:00|            NaN|    168079.57|       NaN|              NULL|          42|         238|           0|       -4.0|  0.0|    0.5|       0.0|         0.0|                  1.0|        4.49|                 NaN|        NaN|               0.0| 2025-01-24|\n",
      "|       2| 2025-01-10 06:58:00|  2025-01-10 07:18:00|            NaN|    156037.94|       NaN|              NULL|         146|          45|           0|      28.74|  0.0|    0.5|       0.0|         0.0|                  1.0|       33.49|                 NaN|        NaN|              0.75| 2025-01-10|\n",
      "|       2| 2025-01-16 05:51:00|  2025-01-16 05:54:00|            NaN|    106629.95|       NaN|              NULL|         186|          90|           0|      12.55|  0.0|    0.5|       0.0|         0.0|                  1.0|        17.3|                 NaN|        NaN|              0.75| 2025-01-16|\n",
      "|       2| 2025-01-18 15:14:00|  2025-01-18 15:23:00|            NaN|     94767.31|       NaN|              NULL|          79|           4|           0|      -4.75|  0.0|    0.5|       0.0|         0.0|                  1.0|         1.0|                 NaN|        NaN|              0.75| 2025-01-18|\n",
      "|       2| 2025-01-18 17:49:00|  2025-01-18 17:56:00|            NaN|     87073.75|       NaN|              NULL|         239|         142|           0|      13.58|  0.0|    0.5|      3.52|         0.0|                  1.0|        21.1|                 NaN|        NaN|               0.0| 2025-01-18|\n",
      "|       2| 2025-01-10 04:34:00|  2025-01-10 05:02:00|            NaN|     85936.08|       NaN|              NULL|         131|          50|           0|     -11.69|  0.0|    0.5|       0.0|        6.94|                  1.0|         5.0|                 NaN|        NaN|              0.75| 2025-01-10|\n",
      "|       2| 2025-01-15 23:14:00|  2025-01-15 23:19:00|            NaN|     77622.46|       NaN|              NULL|         174|          18|           0|       6.07|  0.0|    0.5|       0.0|         0.0|                  1.0|        7.57|                 NaN|        NaN|               0.0| 2025-01-15|\n",
      "|       2| 2025-01-24 17:44:00|  2025-01-24 18:15:00|            NaN|     72627.93|       NaN|              NULL|         244|         170|           0|      -4.75|  0.0|    0.5|       0.0|         0.0|                  1.0|         3.0|                 NaN|        NaN|              0.75| 2025-01-24|\n",
      "|       2| 2025-01-06 08:14:00|  2025-01-06 08:43:00|            NaN|     71493.83|       NaN|              NULL|          39|         123|           0|       -1.5|  0.0|    0.5|       0.0|         0.0|                  1.0|         3.0|                 NaN|        NaN|               0.0| 2025-01-06|\n",
      "|       2| 2025-01-24 06:42:00|  2025-01-24 06:50:00|            NaN|     70723.26|       NaN|              NULL|          43|         142|           0|      13.04|  0.0|    0.5|       0.0|         0.0|                  1.0|       17.79|                 NaN|        NaN|              0.75| 2025-01-24|\n",
      "|       2| 2025-01-15 22:06:00|  2025-01-15 22:21:00|            NaN|     62262.71|       NaN|              NULL|         158|         148|           0|      21.37|  0.0|    0.5|       4.7|         0.0|                  1.0|       30.82|                 NaN|        NaN|              0.75| 2025-01-15|\n",
      "|       2| 2025-01-15 09:09:00|  2025-01-15 09:37:00|            NaN|      57707.8|       NaN|              NULL|         232|         163|           0|      43.81|  0.0|    0.5|      2.43|         0.0|                  1.0|       50.99|                 NaN|        NaN|              0.75| 2025-01-15|\n",
      "|       2| 2025-01-15 09:10:00|  2025-01-15 09:21:00|            NaN|     53102.26|       NaN|              NULL|         239|         237|           0|      17.07|  0.0|    0.5|       0.0|         0.0|                  1.0|       21.07|                 NaN|        NaN|               0.0| 2025-01-15|\n",
      "|       1| 2025-01-30 06:55:29|  2025-01-30 08:03:30|            1.0|      44684.1|      99.0|                 N|           3|         100|           1|       47.5|  0.0|    0.5|       0.0|        6.94|                  0.0|       54.94|                 0.0|        0.0|               0.0| 2025-01-30|\n",
      "|       2| 2025-01-10 05:44:00|  2025-01-10 06:01:00|            NaN|     15872.67|       NaN|              NULL|          24|          24|           0|       -1.5|  0.0|    0.5|       0.0|         0.0|                  1.0|         2.0|                 NaN|        NaN|               0.0| 2025-01-10|\n",
      "|       2| 2025-01-16 04:45:00|  2025-01-16 05:44:00|            NaN|      5264.58|       NaN|              NULL|         107|         226|           0|      15.95|  0.0|    0.5|       0.0|         0.0|                  0.3|        20.0|                 NaN|        NaN|              0.75| 2025-01-16|\n",
      "|       2| 2025-01-09 12:19:06|  2025-01-09 13:14:26|            1.0|      4020.04|       4.0|                 N|         132|          25|           1|       82.8|  0.0|    0.5|      15.0|         0.0|                  1.0|      101.05|                 0.0|       1.75|               0.0| 2025-01-09|\n",
      "|       2| 2025-01-08 07:41:00|  2025-01-08 07:52:00|            NaN|      2810.84|       NaN|              NULL|          79|          90|           0|      14.38|  0.0|    0.5|      2.87|         0.0|                  1.0|        22.0|                 NaN|        NaN|              0.75| 2025-01-08|\n",
      "|       2| 2025-01-13 17:04:40|  2025-01-13 17:15:42|            1.0|      2001.95|       1.0|                 N|         229|         143|           2|       12.1|  2.5|    0.5|       0.0|         0.0|                  1.0|       19.35|                 2.5|        0.0|              0.75| 2025-01-13|\n",
      "|       2| 2025-01-08 19:11:56|  2025-01-08 19:36:50|            1.0|      1847.61|       1.0|                 N|         237|         234|           1|       22.6|  7.5|    0.5|      8.52|         0.0|                  1.0|       43.37|                 2.5|        0.0|              0.75| 2025-01-08|\n",
      "+--------+--------------------+---------------------+---------------+-------------+----------+------------------+------------+------------+------------+-----------+-----+-------+----------+------------+---------------------+------------+--------------------+-----------+------------------+-----------+\n",
      "only showing top 20 rows\n"
     ]
    }
   ],
   "source": [
    "# By analyzing the data, we can see that there are trip_distances that are greater than 100's of miles, which is not realistic for a taxi trip in NYC.\n",
    "\n",
    "silver_df.orderBy(\"trip_distance\", ascending=False).show()"
   ]
  },
  {
   "cell_type": "code",
   "execution_count": 87,
   "id": "3da433d0",
   "metadata": {},
   "outputs": [
    {
     "name": "stdout",
     "output_type": "stream",
     "text": [
      "+-------+---------+-------+-----------+----+--------+\n",
      "|  0-100|avg 0-100|100-500|avg 100-500|501+|avg 501+|\n",
      "+-------+---------+-------+-----------+----+--------+\n",
      "|2008081|    17.25|     26|     407.18|  22|   16.06|\n",
      "+-------+---------+-------+-----------+----+--------+\n",
      "\n"
     ]
    }
   ],
   "source": [
    "# Grouping trip distances into ranges and calculating average fare amounts to verify large trip distances we found earlier\n",
    "\n",
    "silver_df.select(\n",
    "    count(when((silver_df.trip_distance >= 0) & (silver_df.trip_distance <= 100), 1)).alias(\"0-100\"),\n",
    "    round(avg(when((silver_df.trip_distance >= 0) & (silver_df.trip_distance <= 100), silver_df.fare_amount)), 2).alias(\"avg 0-100\"),\n",
    "    count(when((silver_df.trip_distance >= 101) & (silver_df.trip_distance <= 500), 1)).alias(\"100-500\"),\n",
    "    round(avg(when((silver_df.trip_distance >= 101) & (silver_df.trip_distance <= 500), silver_df.fare_amount)), 2).alias(\"avg 100-500\"),\n",
    "    count(when((silver_df.trip_distance >= 501), 1)).alias(\"501+\"),\n",
    "    round(avg(when((silver_df.trip_distance >= 501), silver_df.fare_amount)), 2).alias(\"avg 501+\")\n",
    ").show()"
   ]
  },
  {
   "cell_type": "code",
   "execution_count": 88,
   "id": "87b05ee5",
   "metadata": {},
   "outputs": [
    {
     "name": "stdout",
     "output_type": "stream",
     "text": [
      "+--------+---------------+-------------+----------+------------------+------------+------------+------------+-----------+-----+-------+----------+------------+---------------------+------------+--------------------+-----------+------------------+-----------+-------------+------------+-----------+------------+\n",
      "|VendorID|passenger_count|trip_distance|RatecodeID|store_and_fwd_flag|PULocationID|DOLocationID|payment_type|fare_amount|extra|mta_tax|tip_amount|tolls_amount|improvement_surcharge|total_amount|congestion_surcharge|Airport_fee|cbd_congestion_fee|pickup_date|fare_per_mile|dropoff_date|pickup_time|dropoff_time|\n",
      "+--------+---------------+-------------+----------+------------------+------------+------------+------------+-----------+-----+-------+----------+------------+---------------------+------------+--------------------+-----------+------------------+-----------+-------------+------------+-----------+------------+\n",
      "|       1|            1.0|          0.1|       1.0|                 N|         170|         170|           1|        5.1|  2.5|    0.5|       2.0|         0.0|                  1.0|        11.1|                 2.5|        0.0|               0.0| 2025-01-02|         51.0|  2025-01-02|   12:51:16|    12:54:56|\n",
      "|       2|            1.0|         1.96|       1.0|                 N|         170|         140|           1|       14.9|  0.0|    0.5|      3.78|         0.0|                  1.0|       22.68|                 2.5|        0.0|               0.0| 2025-01-02|          8.0|  2025-01-02|   12:35:42|    12:49:58|\n",
      "|       2|            1.0|         3.21|       1.0|                 N|         164|          43|           1|       23.3|  0.0|    0.5|      5.46|         0.0|                  1.0|       32.76|                 2.5|        0.0|               0.0| 2025-01-02|          7.0|  2025-01-02|   12:01:49|    12:26:51|\n",
      "|       2|            1.0|         0.14|       1.0|                 N|         239|         142|           1|        3.7|  0.0|    0.5|      1.54|         0.0|                  1.0|        9.24|                 2.5|        0.0|               0.0| 2025-01-02|         26.0|  2025-01-02|   12:33:46|    12:34:55|\n",
      "|       2|            3.0|         2.35|       1.0|                 N|         230|         114|           1|       20.5|  0.0|    0.5|       4.9|         0.0|                  1.0|        29.4|                 2.5|        0.0|               0.0| 2025-01-02|          9.0|  2025-01-02|   12:48:18|    13:11:14|\n",
      "|       2|            1.0|         0.77|       1.0|                 N|         100|          68|           3|        7.2|  0.0|    0.5|       0.0|         0.0|                  1.0|        11.2|                 2.5|        0.0|               0.0| 2025-01-02|          9.0|  2025-01-02|   11:41:25|    11:47:25|\n",
      "|       2|            1.0|         0.58|       1.0|                 N|         148|         148|           1|        7.2|  0.0|    0.5|      2.24|         0.0|                  1.0|       13.44|                 2.5|        0.0|               0.0| 2025-01-02|         12.0|  2025-01-02|   12:29:47|    12:35:59|\n",
      "|       2|            2.0|         0.97|       1.0|                 N|         161|         230|           1|       14.2|  0.0|    0.5|      3.64|         0.0|                  1.0|       21.84|                 2.5|        0.0|               0.0| 2025-01-02|         15.0|  2025-01-02|   12:00:40|    12:17:05|\n",
      "|       2|            2.0|         1.33|       1.0|                 N|         186|         230|           1|       19.1|  0.0|    0.5|      4.62|         0.0|                  1.0|       27.72|                 2.5|        0.0|               0.0| 2025-01-02|         14.0|  2025-01-02|   12:51:08|    13:14:26|\n",
      "|       2|            1.0|          1.2|       1.0|                 N|          68|         114|           1|       10.0|  0.0|    0.5|       2.8|         0.0|                  1.0|        16.8|                 2.5|        0.0|               0.0| 2025-01-02|          8.0|  2025-01-02|   12:28:30|    12:38:08|\n",
      "|       2|            2.0|         1.72|       1.0|                 N|         114|         186|           2|       12.1|  0.0|    0.5|       0.0|         0.0|                  1.0|        16.1|                 2.5|        0.0|               0.0| 2025-01-02|          7.0|  2025-01-02|   12:40:17|    12:51:21|\n",
      "|       2|            1.0|         0.98|       1.0|                 N|         164|         163|           1|       15.6|  0.0|    0.5|       0.0|         0.0|                  1.0|        19.6|                 2.5|        0.0|               0.0| 2025-01-02|         16.0|  2025-01-02|   12:58:28|    13:16:36|\n",
      "|       2|            2.0|        18.87|       2.0|                 N|         132|         236|           2|       70.0|  0.0|    0.5|       0.0|        6.94|                  1.0|       82.69|                 2.5|       1.75|               0.0| 2025-01-02|          4.0|  2025-01-02|   12:41:53|    13:20:09|\n",
      "|       2|            1.0|         2.61|       1.0|                 N|         246|          48|           1|       14.9|  0.0|    0.5|      3.78|         0.0|                  1.0|       22.68|                 2.5|        0.0|               0.0| 2025-01-02|          6.0|  2025-01-02|   12:08:26|    12:22:05|\n",
      "|       2|            1.0|         1.94|       1.0|                 N|         186|         229|           3|       17.0|  0.0|    0.5|       0.0|         0.0|                  1.0|        21.0|                 2.5|        0.0|               0.0| 2025-01-02|          9.0|  2025-01-02|   12:49:20|    13:07:44|\n",
      "|       1|            1.0|          8.4|       1.0|                 N|          70|         162|           1|       36.6| 9.25|    0.5|     10.85|        6.94|                  1.0|       65.14|                 2.5|       1.75|               0.0| 2025-01-02|          4.0|  2025-01-02|   12:30:29|    12:56:19|\n",
      "|       2|            1.0|         1.44|       1.0|                 N|          43|         163|           1|       16.3|  0.0|    0.5|      4.06|         0.0|                  1.0|       24.36|                 2.5|        0.0|               0.0| 2025-01-02|         11.0|  2025-01-02|   12:02:12|    12:20:27|\n",
      "|       2|            2.0|         1.88|       1.0|                 N|         163|         234|           4|       21.9|  0.0|    0.5|       0.0|         0.0|                  1.0|        25.9|                 2.5|        0.0|               0.0| 2025-01-02|         12.0|  2025-01-02|   12:23:15|    12:49:47|\n",
      "|       1|            1.0|          3.2|       1.0|                 N|         161|         231|           1|       20.5|  2.5|    0.5|      6.15|         0.0|                  1.0|       30.65|                 2.5|        0.0|               0.0| 2025-01-02|          6.0|  2025-01-02|   12:00:26|    12:26:28|\n",
      "|       1|            1.0|          4.6|       1.0|                 N|          13|         230|           1|       25.4|  2.5|    0.5|       5.9|         0.0|                  1.0|        35.3|                 2.5|        0.0|               0.0| 2025-01-02|          6.0|  2025-01-02|   12:37:18|    13:03:16|\n",
      "+--------+---------------+-------------+----------+------------------+------------+------------+------------+-----------+-----+-------+----------+------------+---------------------+------------+--------------------+-----------+------------------+-----------+-------------+------------+-----------+------------+\n",
      "only showing top 20 rows\n"
     ]
    }
   ],
   "source": [
    "# Calculate fare per mile for trips\n",
    "\n",
    "silver_df = silver_df \\\n",
    "            .filter(col(\"trip_distance\") != 0) \\\n",
    "            .filter(col(\"total_amount\") > 0) \\\n",
    "            .filter(col(\"passenger_count\") > 0) \\\n",
    "            .withColumn(\"fare_per_mile\", round(col(\"fare_amount\") / col(\"trip_distance\"))) \\\n",
    "            .withColumn(\"dropoff_date\", col(\"tpep_dropoff_datetime\").cast(\"date\")) \\\n",
    "            .withColumn(\"pickup_time\", date_format(\"tpep_pickup_datetime\", \"HH:mm:ss\")) \\\n",
    "            .withColumn(\"dropoff_time\", date_format(\"tpep_dropoff_datetime\", \"HH:mm:ss\"))\n",
    "silver_df = silver_df.drop(\"tpep_pickup_datetime\", \"tpep_dropoff_datetime\")\n",
    "silver_df.show()"
   ]
  },
  {
   "cell_type": "code",
   "execution_count": 89,
   "id": "21d6cc9c",
   "metadata": {},
   "outputs": [
    {
     "name": "stdout",
     "output_type": "stream",
     "text": [
      "+--------+---------------+-------------+----------+------------------+------------+------------+------------+-----------+-----+-------+----------+------------+---------------------+------------+--------------------+-----------+------------------+-------------+\n",
      "|VendorID|passenger_count|trip_distance|RatecodeID|store_and_fwd_flag|PULocationID|DOLocationID|payment_type|fare_amount|extra|mta_tax|tip_amount|tolls_amount|improvement_surcharge|total_amount|congestion_surcharge|Airport_fee|cbd_congestion_fee|fare_per_mile|\n",
      "+--------+---------------+-------------+----------+------------------+------------+------------+------------+-----------+-----+-------+----------+------------+---------------------+------------+--------------------+-----------+------------------+-------------+\n",
      "|       0|          78987|            0|     78987|             78987|           0|           0|           0|          0|    0|      0|         0|           0|                    0|           0|               78987|      78987|                 0|            0|\n",
      "+--------+---------------+-------------+----------+------------------+------------+------------+------------+-----------+-----+-------+----------+------------+---------------------+------------+--------------------+-----------+------------------+-------------+\n",
      "\n"
     ]
    }
   ],
   "source": [
    "from pyspark.sql.types import NumericType\n",
    "\n",
    "column = [c for c in silver_df.columns if c not in ['pickup_date', 'dropoff_date', 'pickup_time', 'dropoff_time']]\n",
    "silver_df.select([count(when((isnan(c) if isinstance(silver_df.schema[c].dataType, NumericType) else False) | col(c).isNull(), c)).alias(c) for c in column]).show()"
   ]
  },
  {
   "cell_type": "code",
   "execution_count": 90,
   "id": "33f431bd",
   "metadata": {},
   "outputs": [],
   "source": [
    "silver_df = silver_df.dropna()"
   ]
  },
  {
   "cell_type": "code",
   "execution_count": 91,
   "id": "2512d217",
   "metadata": {},
   "outputs": [
    {
     "name": "stdout",
     "output_type": "stream",
     "text": [
      "+--------+---------------+-------------+----------+------------------+------------+------------+------------+-----------+-----+-------+----------+------------+---------------------+------------+--------------------+-----------+------------------+-------------+\n",
      "|VendorID|passenger_count|trip_distance|RatecodeID|store_and_fwd_flag|PULocationID|DOLocationID|payment_type|fare_amount|extra|mta_tax|tip_amount|tolls_amount|improvement_surcharge|total_amount|congestion_surcharge|Airport_fee|cbd_congestion_fee|fare_per_mile|\n",
      "+--------+---------------+-------------+----------+------------------+------------+------------+------------+-----------+-----+-------+----------+------------+---------------------+------------+--------------------+-----------+------------------+-------------+\n",
      "|       0|              0|            0|         0|                 0|           0|           0|           0|          0|    0|      0|         0|           0|                    0|           0|                   0|          0|                 0|            0|\n",
      "+--------+---------------+-------------+----------+------------------+------------+------------+------------+-----------+-----+-------+----------+------------+---------------------+------------+--------------------+-----------+------------------+-------------+\n",
      "\n"
     ]
    }
   ],
   "source": [
    "silver_df.select([count(when((isnan(c) if isinstance(silver_df.schema[c].dataType, NumericType) else False) | col(c).isNull(), c)).alias(c) for c in column]).show()"
   ]
  },
  {
   "cell_type": "code",
   "execution_count": 92,
   "id": "10ab8bee",
   "metadata": {},
   "outputs": [
    {
     "data": {
      "text/plain": [
       "Text(0.5, 1.0, 'Fare per Mile Distribution')"
      ]
     },
     "execution_count": 92,
     "metadata": {},
     "output_type": "execute_result"
    },
    {
     "data": {
      "image/png": "[encoded data removed]",
      "text/plain": [
       "<Figure size 1000x600 with 1 Axes>"
      ]
     },
     "metadata": {},
     "output_type": "display_data"
    }
   ],
   "source": [
    "import matplotlib.pyplot as plt\n",
    "\n",
    "pandas_df = silver_df.filter(\n",
    "    (silver_df.fare_per_mile.isNotNull()) &\n",
    "    (silver_df.fare_per_mile > 0) &\n",
    "    (col('trip_distance') > 0.5) &\n",
    "    (col('fare_per_mile') <= 50)  &\n",
    "    (col('fare_per_mile') > 0) &\n",
    "    (silver_df.fare_per_mile < 50)).toPandas()\n",
    "plt.figure(figsize=(10, 6))\n",
    "plt.hist(pandas_df['fare_per_mile'], bins=50)\n",
    "plt.title('Fare per Mile Distribution')"
   ]
  },
  {
   "cell_type": "code",
   "execution_count": 93,
   "id": "71f9f552",
   "metadata": {},
   "outputs": [
    {
     "name": "stdout",
     "output_type": "stream",
     "text": [
      "+-------+-------+-----------------+\n",
      "|min_fpm|max_fpm|          avg_fpm|\n",
      "+-------+-------+-----------------+\n",
      "|    1.0|   50.0|7.455158698226213|\n",
      "+-------+-------+-----------------+\n",
      "\n",
      "+-----------+-------------+-------------+\n",
      "|fare_amount|trip_distance|fare_per_mile|\n",
      "+-----------+-------------+-------------+\n",
      "|       95.0|          1.9|         50.0|\n",
      "|       84.0|         1.67|         50.0|\n",
      "|       70.0|          1.4|         50.0|\n",
      "|       70.0|          1.4|         50.0|\n",
      "|       70.0|          1.4|         50.0|\n",
      "|       70.0|          1.4|         50.0|\n",
      "|       70.0|         1.41|         50.0|\n",
      "|       70.0|         1.41|         50.0|\n",
      "|       70.0|         1.41|         50.0|\n",
      "|       65.0|          1.3|         50.0|\n",
      "|       65.0|          1.3|         50.0|\n",
      "|       30.0|          0.6|         50.0|\n",
      "|       30.0|          0.6|         50.0|\n",
      "|       30.0|          0.6|         50.0|\n",
      "|      149.0|         3.02|         49.0|\n",
      "|       84.0|          1.7|         49.0|\n",
      "|       70.0|         1.43|         49.0|\n",
      "|       70.0|         1.43|         49.0|\n",
      "|       70.0|         1.43|         49.0|\n",
      "|       70.0|         1.44|         49.0|\n",
      "+-----------+-------------+-------------+\n",
      "only showing top 20 rows\n"
     ]
    }
   ],
   "source": [
    "from pyspark.sql import functions as F\n",
    "\n",
    "silver_df.filter((col('trip_distance') > 0.5) & (col('fare_per_mile') <= 50) & (col('fare_per_mile') > 0)).select(\n",
    "    F.min(\"fare_per_mile\").alias(\"min_fpm\"),\n",
    "    F.max(\"fare_per_mile\").alias(\"max_fpm\"),\n",
    "    F.mean(\"fare_per_mile\").alias(\"avg_fpm\")\n",
    ").show()\n",
    "\n",
    "silver_df.filter((col('trip_distance') > 0.5)  & (col('fare_per_mile') <= 50)  & (col('fare_per_mile') > 0)).select(\"fare_amount\", \"trip_distance\", \"fare_per_mile\").orderBy(F.desc('fare_per_mile'), F.desc('fare_amount'), 'trip_distance').show(20)\n"
   ]
  },
  {
   "cell_type": "code",
   "execution_count": 94,
   "id": "57433f8c",
   "metadata": {},
   "outputs": [
    {
     "name": "stdout",
     "output_type": "stream",
     "text": [
      "1841601\n",
      "1841355\n",
      "1825403\n",
      "1799004\n",
      "1799004\n",
      "1799003\n"
     ]
    }
   ],
   "source": [
    "print(silver_df.count())\n",
    "# 1. Filter extreme trip distances (>50 miles for NYC)\n",
    "silver_df = silver_df.filter(col(\"trip_distance\") <= 50)\n",
    "print(silver_df.count())\n",
    "# 2. Validate location IDs (1-263 range)\n",
    "silver_df = silver_df.filter(\n",
    "    (col(\"PULocationID\").between(1, 263)) & \n",
    "    (col(\"DOLocationID\").between(1, 263))\n",
    ")\n",
    "print(silver_df.count())\n",
    "# 3. Validate rate codes (1-6)\n",
    "silver_df = silver_df.filter(col(\"RatecodeID\").between(1, 6))\n",
    "print(silver_df.count())\n",
    "\n",
    "# 4. Validate payment types (1-6)\n",
    "silver_df = silver_df.filter(col(\"payment_type\").between(1, 6))\n",
    "print(silver_df.count())\n",
    "\n",
    "# 5. Ensure non-negative fare components\n",
    "silver_df = silver_df.filter(\n",
    "    (col(\"fare_amount\") >= 0) &\n",
    "    (col(\"extra\") >= 0) &\n",
    "    (col(\"mta_tax\") >= 0) &\n",
    "    (col(\"tip_amount\") >= 0) &\n",
    "    (col(\"tolls_amount\") >= 0)\n",
    ")\n",
    "print(silver_df.count())"
   ]
  },
  {
   "cell_type": "code",
   "execution_count": 95,
   "id": "d0fdc67e",
   "metadata": {},
   "outputs": [
    {
     "data": {
      "text/plain": [
       "1799003"
      ]
     },
     "execution_count": 95,
     "metadata": {},
     "output_type": "execute_result"
    }
   ],
   "source": [
    "from pyspark.sql.functions import to_timestamp, concat, lit\n",
    "\n",
    "silver_df.filter(\n",
    "    to_timestamp(concat(col(\"pickup_date\"), lit(\" \"), col(\"pickup_time\")), \"yyyy-MM-dd HH:mm:ss\") < to_timestamp(concat(col(\"dropoff_date\"), lit(\" \"), col(\"dropoff_time\")), \"yyyy-MM-dd HH:mm:ss\")\n",
    ")\n",
    "silver_df.count()"
   ]
  },
  {
   "cell_type": "code",
   "execution_count": 96,
   "id": "da57fa6f",
   "metadata": {},
   "outputs": [
    {
     "name": "stdout",
     "output_type": "stream",
     "text": [
      "+-------+------------------+------------------+-----------------+-------------------+------------------+-----------------+-----------------+------------------+------------------+------------------+--------------------+------------------+------------------+---------------------+-----------------+--------------------+-------------------+-------------------+------------------+-----------+------------+\n",
      "|summary|          VendorID|   passenger_count|    trip_distance|         RatecodeID|store_and_fwd_flag|     PULocationID|     DOLocationID|      payment_type|       fare_amount|             extra|             mta_tax|        tip_amount|      tolls_amount|improvement_surcharge|     total_amount|congestion_surcharge|        Airport_fee| cbd_congestion_fee|     fare_per_mile|pickup_time|dropoff_time|\n",
      "+-------+------------------+------------------+-----------------+-------------------+------------------+-----------------+-----------------+------------------+------------------+------------------+--------------------+------------------+------------------+---------------------+-----------------+--------------------+-------------------+-------------------+------------------+-----------+------------+\n",
      "|  count|           1799003|           1799003|          1799003|            1799003|           1799003|          1799003|          1799003|           1799003|           1799003|           1799003|             1799003|           1799003|           1799003|              1799003|          1799003|             1799003|            1799003|            1799003|           1799003|    1799003|     1799003|\n",
      "|   mean|1.7913722211691698|1.3029072213887358|3.075613059011018| 1.0578759457321638|              NULL|167.7258742759184|166.1527179220935|1.1788601797773544|17.516506081424023|1.6861941920052377|   0.496292946704369|3.5393609182419254|0.5007070749743051|   0.9999744302816616|27.09765942024544|  2.3633395830913013|0.13555452659056155|0.47854589458716856|11.768769146021436|       NULL|        NULL|\n",
      "| stddev|0.4169618382843869|0.7419856642003275|4.118558749223769|0.34360251662055497|              NULL|62.25307019173876|68.20891854334086|0.4810920139408921| 15.88257895479715|1.9203313410626095|0.043403998797274204|3.7437827137157824|2.0001128592915878| 0.005056587657784192|20.43771722864022|  0.5683090288321732| 0.4678378612783864|0.36042103146549215|140.53470862458127|       NULL|        NULL|\n",
      "|    min|                 1|               1.0|             0.01|                1.0|                 N|                1|                1|                 1|               0.0|               0.0|                 0.0|               0.0|               0.0|                  0.0|              0.5|                 0.0|                0.0|                0.0|               0.0|   00:00:00|    00:00:00|\n",
      "|    max|                 7|               9.0|            49.28|                6.0|                 Y|              263|              263|                 4|             900.0|              15.0|                 6.5|             400.0|             96.94|                  1.0|            901.0|                 2.5|                5.0|               0.75|           45000.0|   23:59:59|    23:59:59|\n",
      "+-------+------------------+------------------+-----------------+-------------------+------------------+-----------------+-----------------+------------------+------------------+------------------+--------------------+------------------+------------------+---------------------+-----------------+--------------------+-------------------+-------------------+------------------+-----------+------------+\n",
      "\n"
     ]
    }
   ],
   "source": [
    "silver_df.describe().show()"
   ]
  },
  {
   "cell_type": "code",
   "execution_count": 97,
   "id": "13765cbf",
   "metadata": {},
   "outputs": [
    {
     "name": "stdout",
     "output_type": "stream",
     "text": [
      "1311870\n",
      "1311841\n",
      "1311631\n"
     ]
    }
   ],
   "source": [
    "silver_df = silver_df.filter(\n",
    "    (col(\"trip_distance\") > 1) &\n",
    "    (col(\"fare_amount\") > 2)\n",
    ")\n",
    "print(silver_df.count())\n",
    "\n",
    "silver_df = silver_df.filter(\n",
    "    ~((col(\"trip_distance\") > 10) &\n",
    "    (col(\"fare_amount\") < 10))\n",
    ")\n",
    "print(silver_df.count())\n",
    "\n",
    "silver_df = silver_df.filter(\n",
    "    (col(\"fare_per_mile\") > 0.5) &\n",
    "    (col(\"fare_per_mile\") <= 40)\n",
    ")\n",
    "\n",
    "print(silver_df.count())"
   ]
  },
  {
   "cell_type": "code",
   "execution_count": 98,
   "id": "8b0c771f",
   "metadata": {},
   "outputs": [
    {
     "name": "stdout",
     "output_type": "stream",
     "text": [
      "+-------+------------------+------------------+------------------+------------------+------------------+------------------+-----------------+-------------------+------------------+------------------+--------------------+------------------+------------------+---------------------+------------------+--------------------+-------------------+-------------------+------------------+-----------+------------+\n",
      "|summary|          VendorID|   passenger_count|     trip_distance|        RatecodeID|store_and_fwd_flag|      PULocationID|     DOLocationID|       payment_type|       fare_amount|             extra|             mta_tax|        tip_amount|      tolls_amount|improvement_surcharge|      total_amount|congestion_surcharge|        Airport_fee| cbd_congestion_fee|     fare_per_mile|pickup_time|dropoff_time|\n",
      "+-------+------------------+------------------+------------------+------------------+------------------+------------------+-----------------+-------------------+------------------+------------------+--------------------+------------------+------------------+---------------------+------------------+--------------------+-------------------+-------------------+------------------+-----------+------------+\n",
      "|  count|           1311631|           1311631|           1311631|           1311631|           1311631|           1311631|          1311631|            1311631|           1311631|           1311631|             1311631|           1311631|           1311631|              1311631|           1311631|             1311631|            1311631|            1311631|           1311631|    1311631|     1311631|\n",
      "|   mean|1.8009272424942686|1.3137536395525875|3.9588177467595633|1.0710695309885174|              NULL|165.15814432565256|163.3833867909496| 1.1667809010308539|21.156061163543725|1.7548172389948085| 0.49589633059907856| 4.127735109950889| 0.682748135718049|   0.9999946631331526|31.639464186192516|  2.3410071125186884|0.18405691082324221| 0.4959380725219212|6.7017713061066715|       NULL|        NULL|\n",
      "| stddev|0.4096792059976567|0.7533210266185937|  4.51193682764189|0.3626216832031299|              NULL|61.866771599004224|69.64401628847305|0.46346744626968195|16.826552359984934| 2.012663032023556|0.045776767617972045|4.1108823777272265|2.3067860010101877| 0.002310160694447...|21.877051697351565|   0.610085046698686| 0.5368980892593075|0.35496348921767074|2.0159411879449154|       NULL|        NULL|\n",
      "|    min|                 1|               1.0|              1.01|               1.0|                 N|                 1|                1|                  1|               3.0|               0.0|                 0.0|               0.0|               0.0|                  0.0|               4.5|                 0.0|                0.0|                0.0|               1.0|   00:00:00|    00:00:00|\n",
      "|    max|                 7|               9.0|             49.28|               6.0|                 Y|               263|              263|                  4|             498.6|              15.0|                 6.5|             400.0|             96.94|                  1.0|            503.35|                 2.5|                5.0|               0.75|              40.0|   23:59:59|    23:59:59|\n",
      "+-------+------------------+------------------+------------------+------------------+------------------+------------------+-----------------+-------------------+------------------+------------------+--------------------+------------------+------------------+---------------------+------------------+--------------------+-------------------+-------------------+------------------+-----------+------------+\n",
      "\n"
     ]
    }
   ],
   "source": [
    "silver_df.describe().show()"
   ]
  },
  {
   "cell_type": "code",
   "execution_count": 99,
   "id": "52497d78",
   "metadata": {},
   "outputs": [],
   "source": [
    "from pyspark.sql.functions import unix_timestamp, abs\n",
    "silver_df = silver_df.withColumn(\"trip_duration_minutes\", \n",
    "    (unix_timestamp(to_timestamp(concat(col(\"dropoff_date\"), lit(\" \"), col(\"dropoff_time\")))) - \n",
    "     unix_timestamp(to_timestamp(concat(col(\"pickup_date\"), lit(\" \"), col(\"pickup_time\"))))) / 60\n",
    ").filter(\n",
    "    (col(\"trip_duration_minutes\") >= 1) & \n",
    "    (col(\"trip_duration_minutes\") <= 1440)  # 1 min to 24 hours\n",
    ")"
   ]
  },
  {
   "cell_type": "code",
   "execution_count": 100,
   "id": "9505a9ec",
   "metadata": {},
   "outputs": [],
   "source": [
    "# Validate total_amount calculation\n",
    "silver_df = silver_df.withColumn(\"calculated_total\", \n",
    "    col(\"fare_amount\") + col(\"extra\") + col(\"mta_tax\") + col(\"tip_amount\") + \n",
    "    col(\"tolls_amount\") + col(\"improvement_surcharge\") + \n",
    "    col(\"congestion_surcharge\") + col(\"Airport_fee\") + col(\"cbd_congestion_fee\")\n",
    ").filter(abs(col(\"total_amount\") - col(\"calculated_total\")) <= 0.50)"
   ]
  },
  {
   "cell_type": "code",
   "execution_count": 101,
   "id": "df8bbced",
   "metadata": {},
   "outputs": [
    {
     "data": {
      "text/plain": [
       "1051083"
      ]
     },
     "execution_count": 101,
     "metadata": {},
     "output_type": "execute_result"
    }
   ],
   "source": [
    "silver_df.count()"
   ]
  }
 ],
 "metadata": {
  "kernelspec": {
   "display_name": ".venv",
   "language": "python",
   "name": "python3"
  },
  "language_info": {
   "codemirror_mode": {
    "name": "ipython",
    "version": 3
   },
   "file_extension": ".py",
   "mimetype": "text/x-python",
   "name": "python",
   "nbconvert_exporter": "python",
   "pygments_lexer": "ipython3",
   "version": "3.13.7"
  }
 },
 "nbformat": 4,
 "nbformat_minor": 5
}
